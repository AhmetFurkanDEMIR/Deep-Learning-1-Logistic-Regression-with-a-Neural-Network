{
 "cells": [
  {
   "cell_type": "markdown",
   "metadata": {},
   "source": [
    "# Logistic Regression with a Neural Network"
   ]
  },
  {
   "cell_type": "markdown",
   "metadata": {},
   "source": [
    "İlk olarak ihtiyacınız olacak tüm paketleri içe aktarmak için aşağıdaki hücreyi çalıştıralım.\n",
    "\n",
    "   * numpy, Python ile bilimsel hesaplama için temel pakettir.\n",
    "   * h5py, H5 dosyasında depolanan bir veri kümesiyle etkileşim kurmak için kullanılan yaygın bir pakettir.\n",
    "   * matplotlib, Python'da grafikler çizmek için ünlü bir kütüphanedir.\n",
    "   * PIL ve scipy, modelinizi sonunda kendi resminizle test etmek için burada kullanılır.\n"
   ]
  },
  {
   "cell_type": "code",
   "execution_count": 2,
   "metadata": {},
   "outputs": [],
   "source": [
    "import numpy as np\n",
    "import matplotlib.pyplot as plt\n",
    "import h5py\n",
    "import scipy\n",
    "from PIL import Image\n",
    "from scipy import ndimage\n",
    "#from lr_utils import load_dataset\n",
    "\n",
    "%matplotlib inline"
   ]
  },
  {
   "cell_type": "markdown",
   "metadata": {},
   "source": [
    "## 1-) Eğitim kümesine genel bakış"
   ]
  },
  {
   "cell_type": "markdown",
   "metadata": {},
   "source": [
    "Bir veri kümesi (\"data.h5\") verilir: - kedi (y = 1) veya kedi olmayan (y = 0) olarak etiketlenmiş eğitim seti. (num_px, num_px, 3). Bu nedenle, her görüntü kare (yükseklik = num_px) ve (genişlik = num_px) olur.\n",
    "\n",
    "Resimleri kedi veya kedi olmayan olarak doğru bir şekilde sınıflandırabilen basit bir görüntü tanıma algoritması oluşturacaksınız.\n",
    "\n",
    "Veri kümesini daha yakından tanıyalım. Aşağıdaki kodu çalıştırarak verileri yükleyin."
   ]
  },
  {
   "cell_type": "code",
   "execution_count": 5,
   "metadata": {},
   "outputs": [],
   "source": [
    "train_set_x_orig, train_set_y, test_set_x_orig, test_set_y, classes = load_dataset()"
   ]
  },
  {
   "cell_type": "markdown",
   "metadata": {},
   "source": [
    "Görüntü veri kümelerinin sonuna (train ve test) \"_orig\" ekledik çünkü bunları ön işleme tabi tutacağız. Önişlemeden sonra train_set_x ve test_set_x (train_set_y ve test_set_y etiketleri için herhangi bir ön işleme gerek yoktur) elde edeceğiz.\n",
    "\n",
    "Train_set_x_orig ve test_set_x_orig öğelerinizin her satırı, bir resmi temsil eden bir dizidir. Aşağıdaki kodu çalıştırarak bir örneği görselleştirebilirsiniz. Ayrıca indeks değerini değiştirmekten çekinmeyin ve diğer görüntüleri görmek için tekrar çalıştırın."
   ]
  },
  {
   "cell_type": "code",
   "execution_count": 8,
   "metadata": {},
   "outputs": [
    {
     "name": "stdout",
     "output_type": "stream",
     "text": [
      "y = [0], it's a 'non-cat' picture.\n"
     ]
    },
    {
     "data": {
      "image/png": "[encoded data removed]",
      "text/plain": [
       "<Figure size 432x288 with 1 Axes>"
      ]
     },
     "metadata": {
      "needs_background": "light"
     },
     "output_type": "display_data"
    }
   ],
   "source": [
    "index = 40\n",
    "plt.imshow(train_set_x_orig[index])\n",
    "print (\"y = \" + str(train_set_y[:, index]) + \", it's a '\" + classes[np.squeeze(train_set_y[:, index])].decode(\"utf-8\") +  \"' picture.\")"
   ]
  },
  {
   "cell_type": "markdown",
   "metadata": {},
   "source": [
    "Derin öğrenmedeki birçok yazılım hatası, uymayan matris / vektör boyutlarına sahip olmaktan gelir. Matris / vektör boyutlarınızı düz tutabiliyorsanız, birçok hatayı ortadan kaldırmak için uzun bir yol kat edeceksiniz.\n",
    "\n",
    "Alıştırma: Şunun için değerleri bulun: - m_train (egzersiz örneği sayısı) - m_test (test örneği sayısı) - num_px (= yükseklik = bir egzersiz görüntüsünün genişliği) train_set_x_orig öğesinin sayısal bir dizi olduğunu unutmayın (m_train, num_px, sayı_px, 3). Örneğin, m_train'e train_set_x_orig.shape [0] yazarak erişebilirsiniz."
   ]
  },
  {
   "cell_type": "code",
   "execution_count": 9,
   "metadata": {},
   "outputs": [
    {
     "name": "stdout",
     "output_type": "stream",
     "text": [
      "Number of training examples: m_train = 209\n",
      "Number of testing examples: m_test = 50\n",
      "Height/Width of each image: num_px = 64\n",
      "Each image is of size: (64, 64, 3)\n",
      "train_set_x shape: (209, 64, 64, 3)\n",
      "train_set_y shape: (1, 209)\n",
      "test_set_x shape: (50, 64, 64, 3)\n",
      "test_set_y shape: (1, 50)\n"
     ]
    }
   ],
   "source": [
    "m_train = train_set_y.shape[1]\n",
    "m_test = test_set_y.shape[1]\n",
    "num_px = train_set_x_orig.shape[1]\n",
    "\n",
    "print (\"Number of training examples: m_train = \" + str(m_train))\n",
    "print (\"Number of testing examples: m_test = \" + str(m_test))\n",
    "print (\"Height/Width of each image: num_px = \" + str(num_px))\n",
    "print (\"Each image is of size: (\" + str(num_px) + \", \" + str(num_px) + \", 3)\")\n",
    "print (\"train_set_x shape: \" + str(train_set_x_orig.shape))\n",
    "print (\"train_set_y shape: \" + str(train_set_y.shape))\n",
    "print (\"test_set_x shape: \" + str(test_set_x_orig.shape))\n",
    "print (\"test_set_y shape: \" + str(test_set_y.shape))"
   ]
  },
  {
   "cell_type": "markdown",
   "metadata": {},
   "source": [
    "Kolaylık sağlamak için şimdi şekil görüntülerini (num_px, num_px, 3) 'den bir dizi şekil dizisine dönüştürelim\n",
    "(num_px ∗ num_px ∗ 3, 1). Bundan sonra, eğitim (ve test) veri setimiz, her sütunun düzleştirilmiş bir görüntüyü temsil ettiği bir numpy dizisidir. M_train (sırasıyla m_test) sütunları olmalıdır."
   ]
  },
  {
   "cell_type": "code",
   "execution_count": 10,
   "metadata": {},
   "outputs": [
    {
     "name": "stdout",
     "output_type": "stream",
     "text": [
      "train_set_y shape: (1, 209)\n",
      "test_set_x_flatten shape: (12288, 50)\n",
      "test_set_y shape: (1, 50)\n",
      "sanity check after reshaping: [17 31 56 22 33]\n"
     ]
    }
   ],
   "source": [
    "train_set_x_flatten = train_set_x_orig.reshape(train_set_x_orig.shape[0], -1).T\n",
    "test_set_x_flatten = test_set_x_orig.reshape(test_set_x_orig.shape[0], -1).T\n",
    "\n",
    "print (\"train_set_y shape: \" + str(train_set_y.shape))\n",
    "print (\"test_set_x_flatten shape: \" + str(test_set_x_flatten.shape))\n",
    "print (\"test_set_y shape: \" + str(test_set_y.shape))\n",
    "print (\"sanity check after reshaping: \" + str(train_set_x_flatten[0:5,0]))"
   ]
  },
  {
   "cell_type": "markdown",
   "metadata": {},
   "source": [
    "Renkli görüntüleri temsil etmek için, her piksel için kırmızı, yeşil ve mavi kanallar (RGB) belirtilmelidir ve bu nedenle piksel değeri aslında 0 ila 255 arasında değişen üç sayıdan oluşan bir vektördür.\n",
    "\n",
    "Makine öğreniminde yaygın olarak kullanılan bir önişleme adımı, veri kümenizi ortalamak ve standartlaştırmaktır, yani her bir örnekten tüm numpy dizisinin ortalamasını özetlersiniz ve daha sonra her örneği tüm numpy dizisinin standart sapmasına bölersiniz. Ancak resim veri kümeleri için, daha basit ve daha kullanışlıdır ve veri kümesinin her satırını 255'e (bir piksel kanalının maksimum değeri) bölmek neredeyse iyi çalışır.\n",
    "\n",
    "Veri setimizi standartlaştıralım."
   ]
  },
  {
   "cell_type": "code",
   "execution_count": 11,
   "metadata": {},
   "outputs": [],
   "source": [
    "train_set_x = train_set_x_flatten/255.\n",
    "test_set_x = test_set_x_flatten/255."
   ]
  },
  {
   "cell_type": "markdown",
   "metadata": {},
   "source": [
    "# 2-) Öğrenme algoritmasının Genel Mimarisi"
   ]
  },
  {
   "cell_type": "markdown",
   "metadata": {},
   "source": [
    "Kedi görüntülerini kedi olmayan görüntülerden ayırt etmek için basit bir algoritma tasarlamanın zamanı geldi.\n",
    "\n",
    "Sinir Ağı zihniyetini kullanarak bir Lojistik Regresyon oluşturacaksınız. Aşağıdaki şekilde Lojistik Regresyonun neden gerçekten çok basit bir Sinir Ağı olduğu açıklanmaktadır!"
   ]
  },
  {
   "cell_type": "markdown",
   "metadata": {},
   "source": [
    "#### Algoritmanın matematiksel ifadesi:"
   ]
  },
  {
   "cell_type": "markdown",
   "metadata": {},
   "source": [
    "Bir örnek için $x^{(i)}$:\n",
    "$$z^{(i)} = w^T x^{(i)} + b \\tag{1}$$\n",
    "$$\\hat{y}^{(i)} = a^{(i)} = sigmoid(z^{(i)})\\tag{2}$$ \n",
    "$$ \\mathcal{L}(a^{(i)}, y^{(i)}) =  - y^{(i)}  \\log(a^{(i)}) - (1-y^{(i)} )  \\log(1-a^{(i)})\\tag{3}$$\n",
    "\n",
    "Daha sonra maliyet, tüm eğitim örnekleri üzerinde toplanarak hesaplanır:\n",
    "$$ J = \\frac{1}{m} \\sum_{i=1}^m \\mathcal{L}(a^{(i)}, y^{(i)})\\tag{6}$$"
   ]
  },
  {
   "cell_type": "markdown",
   "metadata": {},
   "source": [
    "# 3-) Algoritmamızın parçalarını oluşturalım"
   ]
  },
  {
   "cell_type": "markdown",
   "metadata": {},
   "source": [
    "Bir Sinir Ağı oluşturmanın ana adımları şunlardır:\n",
    "\n",
    "   1. Model yapısını tanımlayın (giriş özelliklerinin sayısı gibi)\n",
    "   2. Modelin parametrelerini başlat\n",
    "   3. Döngü:\n",
    "       * Akım kaybını hesapla (ileri yayılma)\n",
    "       * Geçerli gradyanı hesapla (geriye doğru yayılma)\n",
    "       * Parametreleri güncelleme (gradyan inişi)\n",
    "\n",
    "Genellikle 1-3'ü ayrı ayrı oluşturursunuz ve bunları model () dediğimiz bir işleve entegre edersiniz."
   ]
  },
  {
   "cell_type": "markdown",
   "metadata": {},
   "source": [
    "### 3.1 - Yardımcı Fonksiyonlar"
   ]
  },
  {
   "cell_type": "markdown",
   "metadata": {},
   "source": [
    "**Exercise**: \"Python Basics\" kodunuzu kullanma, uygula `sigmoid()`. Yukarıdaki şekilde gördüğünüz gibi, hesaplamanız gerekiyor $sigmoid( w^T x + b) = \\frac{1}{1 + e^{-(w^T x + b)}}$ tahminlerde bulunmak. kullanım np.exp()."
   ]
  },
  {
   "cell_type": "code",
   "execution_count": 16,
   "metadata": {},
   "outputs": [],
   "source": [
    "# aktivsyon fonksiyonumuz\n",
    "\n",
    "def sigmoid(z):\n",
    "   \n",
    "    s = 1 / (1 + np.exp(-z))\n",
    "\n",
    "    return s"
   ]
  },
  {
   "cell_type": "code",
   "execution_count": 17,
   "metadata": {},
   "outputs": [
    {
     "name": "stdout",
     "output_type": "stream",
     "text": [
      "sigmoid([0, 2]) = [0.5        0.88079708]\n"
     ]
    }
   ],
   "source": [
    "print (\"sigmoid([0, 2]) = \" + str(sigmoid(np.array([0,2]))))"
   ]
  },
  {
   "cell_type": "markdown",
   "metadata": {},
   "source": [
    "### 3.2 - Parametreleri başlatma"
   ]
  },
  {
   "cell_type": "markdown",
   "metadata": {},
   "source": [
    "Alıştırma: Aşağıdaki hücreye parametre başlatma uygulayın. W'yi sıfırlar vektörü olarak başlatmalısınız. Hangi numpy işlevini kullanacağınızı bilmiyorsanız, Numpy kütüphanesinin belgelerinde np.zeros () konusuna bakın."
   ]
  },
  {
   "cell_type": "code",
   "execution_count": 18,
   "metadata": {},
   "outputs": [],
   "source": [
    "def initialize_with_zeros(dim):\n",
    "    \n",
    "    w = np.zeros(shape=(dim, 1)) # ağırlıklar\n",
    "    b = 0 # bias\n",
    "\n",
    "    assert(w.shape == (dim, 1))\n",
    "    assert(isinstance(b, float) or isinstance(b, int))\n",
    "    \n",
    "    return w, b"
   ]
  },
  {
   "cell_type": "code",
   "execution_count": 19,
   "metadata": {},
   "outputs": [
    {
     "name": "stdout",
     "output_type": "stream",
     "text": [
      "w = [[0.]\n",
      " [0.]]\n",
      "b = 0\n"
     ]
    }
   ],
   "source": [
    "dim = 2\n",
    "w, b = initialize_with_zeros(dim)\n",
    "print (\"w = \" + str(w))\n",
    "print (\"b = \" + str(b))"
   ]
  },
  {
   "cell_type": "markdown",
   "metadata": {},
   "source": [
    "### 3.3 - İleri ve Geri Yayılım"
   ]
  },
  {
   "cell_type": "markdown",
   "metadata": {},
   "source": [
    "Parametreleriniz başlatıldığına göre, parametreleri öğrenmek için \"ileri\" ve \"geri\" yayma adımlarını yapabilirsiniz.\n",
    "\n",
    "Alıştırma: Maliyet fonksiyonunu ve degradesini hesaplayan bir işlev propagate () uygulayın.\n",
    "\n",
    "İpuçları:\n",
    "\n",
    "İleri Yayılım:\n",
    "\n",
    "- You get X\n",
    "- You compute $A = \\sigma(w^T X + b) = (a^{(1)}, a^{(2)}, ..., a^{(m-1)}, a^{(m)})$\n",
    "- You calculate the cost function: $J = -\\frac{1}{m}\\sum_{i=1}^{m}y^{(i)}\\log(a^{(i)})+(1-y^{(i)})\\log(1-a^{(i)})$\n",
    "\n",
    "Here are the two formulas you will be using: \n",
    "\n",
    "$$ \\frac{\\partial J}{\\partial w} = \\frac{1}{m}X(A-Y)^T\\tag{7}$$\n",
    "$$ \\frac{\\partial J}{\\partial b} = \\frac{1}{m} \\sum_{i=1}^m (a^{(i)}-y^{(i)})\\tag{8}$$"
   ]
  },
  {
   "cell_type": "code",
   "execution_count": 20,
   "metadata": {},
   "outputs": [],
   "source": [
    "def propagate(w, b, X, Y):\n",
    "    \"\"\"\n",
    "    w -- ağırlıklar, numpy boyut dizisi (num_px * num_px * 3, 1)\n",
    "    b -- bias, real sayı\n",
    "    X -- boyut verileri (num_px * num_px * 3, örnek sayısı)\n",
    "    Y -- gerçek \"etiket\" vektörü (kedi değilse 0, kedi ise 1 içerir) (1, örnek sayısı)\n",
    "\n",
    "    Return:\n",
    "    maliyet - lojistik regresyon için negatif log olabilirlik maliyeti\n",
    "    dw - kaybın w'ye göre gradyanı, böylece w ile aynı şekil\n",
    "    db - b'ye göre kaybın gradyanı, b ile aynı şekilde\n",
    "    \"\"\"\n",
    "    \n",
    "    m = X.shape[1] # eğitim örnek sayısı\n",
    "    \n",
    "\n",
    "    A = sigmoid(np.dot(w.T, X) + b)  # aktivasyon fonksiyonu\n",
    "    cost = (- 1 / m) * np.sum(Y * np.log(A) + (1 - Y) * (np.log(1 - A)))  # maliyet fonksiyonu\n",
    "\n",
    "    \n",
    "    dw = (1 / m) * np.dot(X, (A - Y).T) # ağırlıkların türevi\n",
    "    db = (1 / m) * np.sum(A - Y) # bias ın türevi\n",
    "    \n",
    "    assert(dw.shape == w.shape)\n",
    "    assert(db.dtype == float)\n",
    "    cost = np.squeeze(cost)\n",
    "    assert(cost.shape == ())\n",
    "    \n",
    "    grads = {\"dw\": dw,\n",
    "             \"db\": db}\n",
    "    \n",
    "    return grads, cost"
   ]
  },
  {
   "cell_type": "code",
   "execution_count": 21,
   "metadata": {},
   "outputs": [
    {
     "name": "stdout",
     "output_type": "stream",
     "text": [
      "dw = [[0.99845601]\n",
      " [2.39507239]]\n",
      "db = 0.001455578136784208\n",
      "cost = 5.801545319394553\n"
     ]
    }
   ],
   "source": [
    "w, b, X, Y = np.array([[1.],[2.]]), 2., np.array([[1.,2.,-1.],[3.,4.,-3.2]]), np.array([[1,0,1]])\n",
    "grads, cost = propagate(w, b, X, Y)\n",
    "print (\"dw = \" + str(grads[\"dw\"]))\n",
    "print (\"db = \" + str(grads[\"db\"]))\n",
    "print (\"cost = \" + str(cost))"
   ]
  },
  {
   "cell_type": "markdown",
   "metadata": {},
   "source": [
    "### 3.4 - Optimizasyon"
   ]
  },
  {
   "cell_type": "markdown",
   "metadata": {},
   "source": [
    "   * Parametrelerinizi başlattınız.\n",
    "   * Ayrıca bir maliyet fonksiyonunu ve degradesini de hesaplayabilirsiniz.\n",
    "   * Şimdi, degrade iniş kullanarak parametreleri güncellemek istiyorsunuz.\n",
    "   \n",
    "**Exercise:** Optimizasyon işlevini yazın. Amaç öğrenmektir $w$ ve $b$ maliyet fonksiyonunu en aza indirerek $J$. Parametre için $\\theta$, güncelleme kuralı $ \\theta = \\theta - \\alpha \\text{ } d\\theta$, $\\alpha$ öğrenme oranıdır."
   ]
  },
  {
   "cell_type": "code",
   "execution_count": 22,
   "metadata": {},
   "outputs": [],
   "source": [
    "def optimize(w, b, X, Y, num_iterations, learning_rate, print_cost = False):\n",
    "    \"\"\"\n",
    "    Bu işlev, bir degrade iniş algoritması çalıştırarak w ve b'yi en iyi duruma getirir.\n",
    "    \n",
    "    Argümanlar:\n",
    "    w - ağırlıklar, numpy boyut dizisi (num_px * num_px * 3, 1)\n",
    "    b - önyargı, bir skaler\n",
    "    X - şekil verileri (num_px * num_px * 3, örnek sayısı)\n",
    "    Y - gerçek \"etiket\" vektörü (kedi değilse 0, kedi ise 1 içerir), şekil (1, örnek sayısı)\n",
    "    num_iterations - optimizasyon döngüsünün yineleme sayısı\n",
    "    learning_rate - degrade iniş güncelleme kuralının öğrenme oranı\n",
    "    print_cost - Kaybı her 100 adımda bir yazdırmak için doğru\n",
    "    \n",
    "    İadeler:\n",
    "    params - w ve bias ağırlıklarını içeren sözlük\n",
    "    grad - maliyet fonksiyonuna göre ağırlık ve sapma gradyanlarını içeren sözlük\n",
    "    maliyetler - optimizasyon sırasında hesaplanan tüm maliyetlerin listesi, bu öğrenme eğrisini çizmek için kullanılacaktır.\n",
    "    \n",
    "    İpuçları:\n",
    "    Temel olarak iki adım yazmanız ve bunları tekrarlamanız gerekir:\n",
    "        1) Geçerli parametreler için maliyeti ve degradeyi hesaplayın. Propagate () kullanın.\n",
    "        2) w ve b için degrade iniş kuralını kullanarak parametreleri güncelleyin.\n",
    "    \"\"\"\n",
    "    \n",
    "    costs = []\n",
    "    \n",
    "    for i in range(num_iterations):\n",
    "        \n",
    "        grads, cost = propagate(w, b, X, Y)\n",
    "        \n",
    "        dw = grads[\"dw\"]\n",
    "        db = grads[\"db\"]\n",
    "        \n",
    "        w = w - learning_rate * dw # güncelleme\n",
    "        b = b - learning_rate * db\n",
    "  \n",
    "        if i % 100 == 0:\n",
    "            costs.append(cost)\n",
    "        \n",
    "        # Her 100 eğitim tekrarında maliyeti yazdırın\n",
    "        if print_cost and i % 100 == 0:\n",
    "            print (\"Cost after iteration %i: %f\" %(i, cost))\n",
    "    \n",
    "    params = {\"w\": w,\n",
    "              \"b\": b}\n",
    "    \n",
    "    grads = {\"dw\": dw,\n",
    "             \"db\": db}\n",
    "    \n",
    "    return params, grads, costs"
   ]
  },
  {
   "cell_type": "code",
   "execution_count": 23,
   "metadata": {},
   "outputs": [
    {
     "name": "stdout",
     "output_type": "stream",
     "text": [
      "w = [[0.19033591]\n",
      " [0.12259159]]\n",
      "b = 1.9253598300845747\n",
      "dw = [[0.67752042]\n",
      " [1.41625495]]\n",
      "db = 0.21919450454067657\n"
     ]
    }
   ],
   "source": [
    "params, grads, costs = optimize(w, b, X, Y, num_iterations= 100, learning_rate = 0.009, print_cost = False)\n",
    "\n",
    "print (\"w = \" + str(params[\"w\"]))\n",
    "print (\"b = \" + str(params[\"b\"]))\n",
    "print (\"dw = \" + str(grads[\"dw\"]))\n",
    "print (\"db = \" + str(grads[\"db\"]))"
   ]
  },
  {
   "cell_type": "markdown",
   "metadata": {},
   "source": [
    "Alıştırma: Önceki fonksiyon öğrenilen w ve b çıktısını verecektir. Veri kümesi X için etiketleri tahmin etmek için w ve b'yi kullanabiliriz. predict() işlevini uygulayın. Tahminleri hesaplamak için iki adım vardır:\n",
    "\n",
    "1. Hesapla $\\hat{Y} = A = \\sigma(w^T X + b)$\n",
    "\n",
    "2. A girişleri 0 (if activation <= 0.5) veya 1 (if activation > 0.5), tahminleri bir vektörde saklar `Y_prediction`. İsterseniz, bir `if`/`else` bir ifadede `for` döngü (içinden de bunu vektörleştirmenin bir yolu vardır)."
   ]
  },
  {
   "cell_type": "code",
   "execution_count": 25,
   "metadata": {},
   "outputs": [],
   "source": [
    "# GRADED FUNCTION: predict\n",
    "\n",
    "def predict(w, b, X):\n",
    "    \"\"\"\n",
    "    Öğrenilen lojistik regresyon parametrelerini (w, b) kullanarak etiketin 0 veya 1 olup olmadığını tahmin edin\n",
    "    \n",
    "    Argümanlar:\n",
    "    w - ağırlıklar, numpy boyut dizisi (num_px * num_px * 3, 1)\n",
    "    b - önyargı, bir skaler\n",
    "    X - boyut verileri (num_px * num_px * 3, örnek sayısı)\n",
    "    \n",
    "    İadeler:\n",
    "    Y_ tahmini - X'teki örnekler için tüm tahminleri (0/1) içeren bir numpy dizisi (vektör)\n",
    "    \"\"\"\n",
    "    \n",
    "    m = X.shape[1]\n",
    "    Y_prediction = np.zeros((1,m))\n",
    "    w = w.reshape(X.shape[0], 1)\n",
    "    \n",
    "    A = sigmoid(np.dot(w.T, X) + b)\n",
    " \n",
    "    for i in range(A.shape[1]):\n",
    "\n",
    "        Y_prediction[0, i] = 1 if A[0, i] > 0.5 else 0\n",
    "    \n",
    "    assert(Y_prediction.shape == (1, m))\n",
    "    \n",
    "    return Y_prediction"
   ]
  },
  {
   "cell_type": "code",
   "execution_count": 26,
   "metadata": {},
   "outputs": [
    {
     "name": "stdout",
     "output_type": "stream",
     "text": [
      "predictions = [[1. 1. 0.]]\n"
     ]
    }
   ],
   "source": [
    "w = np.array([[0.1124579],[0.23106775]])\n",
    "b = -0.3\n",
    "X = np.array([[1.,-1.1,-3.2],[1.2,2.,0.1]])\n",
    "print (\"predictions = \" + str(predict(w, b, X)))"
   ]
  },
  {
   "cell_type": "markdown",
   "metadata": {},
   "source": [
    "# 4-) Tüm işlevleri bir modelde birleştirelim"
   ]
  },
  {
   "cell_type": "markdown",
   "metadata": {},
   "source": [
    "Artık tüm yapı taşlarını (önceki bölümlerde uygulanan fonksiyonlar) doğru sırayla bir araya getirerek genel modelin nasıl yapılandırıldığını göreceksiniz.\n",
    "\n",
    "Alıştırma: Model işlevini uygulayın. Aşağıdaki gösterimi kullanın: - Test setindeki tahminleriniz için Y_prediction_test - Tren setindeki tahminleriniz için Y_prediction_train - w, maliyetler, optimizasyon çıktıları için grad ()"
   ]
  },
  {
   "cell_type": "code",
   "execution_count": 27,
   "metadata": {},
   "outputs": [],
   "source": [
    "\n",
    "def model(X_train, Y_train, X_test, Y_test, num_iterations = 2000, learning_rate = 0.5, print_cost = False):\n",
    "    \"\"\"\n",
    "    Daha önce uyguladığınız işlevi çağırarak lojistik regresyon modelini oluşturur\n",
    "    \n",
    "    Argümanlar:\n",
    "    X_train - sayısız şekil dizisiyle temsil edilen eğitim seti (num_px * num_px * 3, m_train)\n",
    "    Y_train - şekil (1, m_train) şeklinde bir dizi (vektör) ile temsil edilen eğitim etiketleri\n",
    "    X_test - sayısal bir şekil dizisiyle temsil edilen test seti (num_px * num_px * 3, m_test)\n",
    "    Y_test - (1, m_test) şekilli bir dizi (vektör) ile temsil edilen test etiketleri\n",
    "    num_iterations - parametreleri optimize etmek için yineleme sayısını temsil eden hiperparametre\n",
    "    learning_rate - optimizasyon () güncelleme kuralında kullanılan öğrenme oranını temsil eden hiperparametre\n",
    "    print_cost - Her 100 tekrarda bir maliyeti yazdırmak için true olarak ayarlayın\n",
    "    \n",
    "    İadeler:\n",
    "    d - model hakkında bilgi içeren sözlük.\n",
    "    \"\"\"\n",
    "    \n",
    "    # rastgele ağırlıklar\n",
    "    w, b = initialize_with_zeros(X_train.shape[0])\n",
    "\n",
    "    # Degrade iniş (≈ 1 satır kod)\n",
    "    parameters, grads, costs = optimize(w, b, X_train, Y_train, num_iterations, learning_rate, print_cost)\n",
    "    \n",
    "    # W ve b parametrelerini sözlük \"parametreler\" den alın\n",
    "    w = parameters[\"w\"]\n",
    "    b = parameters[\"b\"]\n",
    "    \n",
    "    # tahmin\n",
    "    Y_prediction_test = predict(w, b, X_test)\n",
    "    Y_prediction_train = predict(w, b, X_train)\n",
    "\n",
    "    # Print train/test Errors\n",
    "    print(\"train accuracy: {} %\".format(100 - np.mean(np.abs(Y_prediction_train - Y_train)) * 100))\n",
    "    print(\"test accuracy: {} %\".format(100 - np.mean(np.abs(Y_prediction_test - Y_test)) * 100))\n",
    "\n",
    "    \n",
    "    d = {\"costs\": costs,\n",
    "         \"Y_prediction_test\": Y_prediction_test, \n",
    "         \"Y_prediction_train\" : Y_prediction_train, \n",
    "         \"w\" : w, \n",
    "         \"b\" : b,\n",
    "         \"learning_rate\" : learning_rate,\n",
    "         \"num_iterations\": num_iterations}\n",
    "    \n",
    "    return d"
   ]
  },
  {
   "cell_type": "code",
   "execution_count": 28,
   "metadata": {},
   "outputs": [
    {
     "name": "stdout",
     "output_type": "stream",
     "text": [
      "Cost after iteration 0: 0.693147\n",
      "Cost after iteration 100: 0.584508\n",
      "Cost after iteration 200: 0.466949\n",
      "Cost after iteration 300: 0.376007\n",
      "Cost after iteration 400: 0.331463\n",
      "Cost after iteration 500: 0.303273\n",
      "Cost after iteration 600: 0.279880\n",
      "Cost after iteration 700: 0.260042\n",
      "Cost after iteration 800: 0.242941\n",
      "Cost after iteration 900: 0.228004\n",
      "Cost after iteration 1000: 0.214820\n",
      "Cost after iteration 1100: 0.203078\n",
      "Cost after iteration 1200: 0.192544\n",
      "Cost after iteration 1300: 0.183033\n",
      "Cost after iteration 1400: 0.174399\n",
      "Cost after iteration 1500: 0.166521\n",
      "Cost after iteration 1600: 0.159305\n",
      "Cost after iteration 1700: 0.152667\n",
      "Cost after iteration 1800: 0.146542\n",
      "Cost after iteration 1900: 0.140872\n",
      "train accuracy: 99.04306220095694 %\n",
      "test accuracy: 70.0 %\n"
     ]
    }
   ],
   "source": [
    "# Eğitim verileri ile modeli eğitelim\n",
    "\n",
    "d = model(train_set_x, train_set_y, test_set_x, test_set_y, num_iterations = 2000, learning_rate = 0.005, print_cost = True)"
   ]
  },
  {
   "cell_type": "markdown",
   "metadata": {},
   "source": [
    "* Eğitim doğruluğu %99\n",
    "* Test doğruluğu %70"
   ]
  },
  {
   "cell_type": "markdown",
   "metadata": {},
   "source": [
    "# 5-) Test"
   ]
  },
  {
   "cell_type": "code",
   "execution_count": 51,
   "metadata": {},
   "outputs": [
    {
     "name": "stdout",
     "output_type": "stream",
     "text": [
      "b'non-cat'\n"
     ]
    },
    {
     "data": {
      "image/png": "[encoded data removed]",
      "text/plain": [
       "<Figure size 432x288 with 1 Axes>"
      ]
     },
     "metadata": {
      "needs_background": "light"
     },
     "output_type": "display_data"
    }
   ],
   "source": [
    "index = 35\n",
    "plt.imshow(test_set_x[:,index].reshape((num_px, num_px, 3)))\n",
    "print (classes[int(d[\"Y_prediction_test\"][0,index])])"
   ]
  },
  {
   "cell_type": "code",
   "execution_count": 52,
   "metadata": {},
   "outputs": [
    {
     "name": "stdout",
     "output_type": "stream",
     "text": [
      "b'cat'\n"
     ]
    },
    {
     "data": {
      "image/png": "[encoded data removed]",
      "text/plain": [
       "<Figure size 432x288 with 1 Axes>"
      ]
     },
     "metadata": {
      "needs_background": "light"
     },
     "output_type": "display_data"
    }
   ],
   "source": [
    "index = 20\n",
    "plt.imshow(test_set_x[:,index].reshape((num_px, num_px, 3)))\n",
    "print (classes[int(d[\"Y_prediction_test\"][0,index])])"
   ]
  },
  {
   "cell_type": "markdown",
   "metadata": {},
   "source": [
    "# 6-) Öğrenme oranı"
   ]
  },
  {
   "cell_type": "code",
   "execution_count": 54,
   "metadata": {},
   "outputs": [
    {
     "data": {
      "image/png": "[encoded data removed]",
      "text/plain": [
       "<Figure size 432x288 with 1 Axes>"
      ]
     },
     "metadata": {
      "needs_background": "light"
     },
     "output_type": "display_data"
    }
   ],
   "source": [
    "# Plot learning curve (with costs)\n",
    "costs = np.squeeze(d['costs'])\n",
    "plt.plot(costs)\n",
    "plt.ylabel('cost')\n",
    "plt.xlabel('iterations (per hundreds)')\n",
    "plt.title(\"Learning rate =\" + str(d[\"learning_rate\"]))\n",
    "plt.show()"
   ]
  },
  {
   "cell_type": "code",
   "execution_count": 56,
   "metadata": {},
   "outputs": [
    {
     "name": "stdout",
     "output_type": "stream",
     "text": [
      "learning rate is: 0.01\n",
      "train accuracy: 99.52153110047847 %\n",
      "test accuracy: 68.0 %\n",
      "\n",
      "-------------------------------------------------------\n",
      "\n",
      "learning rate is: 0.001\n",
      "train accuracy: 88.99521531100478 %\n",
      "test accuracy: 64.0 %\n",
      "\n",
      "-------------------------------------------------------\n",
      "\n",
      "learning rate is: 0.0001\n",
      "train accuracy: 68.42105263157895 %\n",
      "test accuracy: 36.0 %\n",
      "\n",
      "-------------------------------------------------------\n",
      "\n"
     ]
    },
    {
     "data": {
      "image/png": "[encoded data removed]",
      "text/plain": [
       "<Figure size 432x288 with 1 Axes>"
      ]
     },
     "metadata": {
      "needs_background": "light"
     },
     "output_type": "display_data"
    }
   ],
   "source": [
    "learning_rates = [0.01, 0.001, 0.0001]\n",
    "models = {}\n",
    "for i in learning_rates:\n",
    "    print (\"learning rate is: \" + str(i))\n",
    "    models[str(i)] = model(train_set_x, train_set_y, test_set_x, test_set_y, num_iterations = 1500, learning_rate = i, print_cost = False)\n",
    "    print ('\\n' + \"-------------------------------------------------------\" + '\\n')\n",
    "\n",
    "for i in learning_rates:\n",
    "    plt.plot(np.squeeze(models[str(i)][\"costs\"]), label= str(models[str(i)][\"learning_rate\"]))\n",
    "\n",
    "plt.ylabel('cost')\n",
    "plt.xlabel('iterations (hundreds)')\n",
    "\n",
    "legend = plt.legend(loc='upper center', shadow=True)\n",
    "frame = legend.get_frame()\n",
    "frame.set_facecolor('0.90')\n",
    "plt.show()"
   ]
  }
 ],
 "metadata": {
  "kernelspec": {
   "display_name": "Python 3",
   "language": "python",
   "name": "python3"
  },
  "language_info": {
   "codemirror_mode": {
    "name": "ipython",
    "version": 3
   },
   "file_extension": ".py",
   "mimetype": "text/x-python",
   "name": "python",
   "nbconvert_exporter": "python",
   "pygments_lexer": "ipython3",
   "version": "3.7.3"
  }
 },
 "nbformat": 4,
 "nbformat_minor": 4
}
